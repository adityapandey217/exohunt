{
 "cells": [
  {
   "cell_type": "code",
   "execution_count": 1,
   "id": "2aaafb3e",
   "metadata": {},
   "outputs": [
    {
     "name": "stdout",
     "output_type": "stream",
     "text": [
      "SearchResult containing 5 data products.\n",
      "\n",
      " #     mission     year       author      exptime target_name distance\n",
      "                                             s                 arcsec \n",
      "--- -------------- ---- ----------------- ------- ----------- --------\n",
      "  0 TESS Sector 06 2018               QLP    1800   123456789      0.0\n",
      "  1 TESS Sector 33 2020               QLP     600   123456789      0.0\n",
      "  2 TESS Sector 87 2024               QLP     200   123456789      0.0\n",
      "  3 TESS Sector 06 2018 GSFC-ELEANOR-LITE    1800   123456789      0.0\n",
      "  4 TESS Sector 06 2018              TGLC    1800   123456789      0.0\n"
     ]
    }
   ],
   "source": [
    "import lightkurve as lk\n",
    "\n",
    "# Search for a TESS light curve by TIC ID or target name\n",
    "search_result = lk.search_lightcurve('TIC 123456789', mission='TESS')\n"
   ]
  },
  {
   "cell_type": "code",
   "execution_count": null,
   "id": "ee6d622e",
   "metadata": {},
   "outputs": [
    {
     "data": {
      "text/plain": [
       "<Axes: xlabel='Phase [JD]', ylabel='Normalized Flux'>"
      ]
     },
     "execution_count": 6,
     "metadata": {},
     "output_type": "execute_result"
    }
   ],
   "source": [
    "\n",
    "search_result[0].to"
   ]
  },
  {
   "cell_type": "code",
   "execution_count": null,
   "id": "15c1d8b8",
   "metadata": {},
   "outputs": [],
   "source": [
    "# download the csv file of 1 \n"
   ]
  }
 ],
 "metadata": {
  "kernelspec": {
   "display_name": "base",
   "language": "python",
   "name": "python3"
  },
  "language_info": {
   "codemirror_mode": {
    "name": "ipython",
    "version": 3
   },
   "file_extension": ".py",
   "mimetype": "text/x-python",
   "name": "python",
   "nbconvert_exporter": "python",
   "pygments_lexer": "ipython3",
   "version": "3.13.5"
  }
 },
 "nbformat": 4,
 "nbformat_minor": 5
}
